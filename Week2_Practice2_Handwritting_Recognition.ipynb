{
  "nbformat": 4,
  "nbformat_minor": 0,
  "metadata": {
    "colab": {
      "name": "Week2_Practice2_Handwritting_Recognition.ipynb",
      "provenance": [],
      "authorship_tag": "ABX9TyNu4lLcoZ3847IeTx/0kBd0",
      "include_colab_link": true
    },
    "kernelspec": {
      "name": "python3",
      "display_name": "Python 3"
    }
  },
  "cells": [
    {
      "cell_type": "markdown",
      "metadata": {
        "id": "view-in-github",
        "colab_type": "text"
      },
      "source": [
        "<a href=\"https://colab.research.google.com/github/Kathy-Xueqing-Wang/Exercises_TensorFlow-in-practice/blob/master/Week2_Practice2_Handwritting_Recognition.ipynb\" target=\"_parent\"><img src=\"https://colab.research.google.com/assets/colab-badge.svg\" alt=\"Open In Colab\"/></a>"
      ]
    },
    {
      "cell_type": "code",
      "metadata": {
        "id": "5UOu3pU9XVTR",
        "colab_type": "code",
        "colab": {}
      },
      "source": [
        "import tensorflow as tf"
      ],
      "execution_count": 1,
      "outputs": []
    },
    {
      "cell_type": "markdown",
      "metadata": {
        "id": "4vU_9Si2X24y",
        "colab_type": "text"
      },
      "source": [
        "This time we create a slightly more complex model using the MNIST dataset to recognize handwritting digits. We will use callback to determine how many epochs to train. (Practice 1 is exactly the same.. so not included here)"
      ]
    },
    {
      "cell_type": "markdown",
      "metadata": {
        "id": "XuJk74VIYJQl",
        "colab_type": "text"
      },
      "source": [
        "First we prepare the data. Load and normalize them."
      ]
    },
    {
      "cell_type": "code",
      "metadata": {
        "id": "112CCkx2YHWx",
        "colab_type": "code",
        "colab": {}
      },
      "source": [
        "mnist = tf.keras.datasets.mnist"
      ],
      "execution_count": 3,
      "outputs": []
    },
    {
      "cell_type": "code",
      "metadata": {
        "id": "UG7LcZ6HYQT0",
        "colab_type": "code",
        "colab": {}
      },
      "source": [
        "(train_images, train_labels), (test_images, test_labels) = mnist.load_data()\n",
        "train_images, test_images = train_images / 255.0, test_images / 255.0"
      ],
      "execution_count": 24,
      "outputs": []
    },
    {
      "cell_type": "markdown",
      "metadata": {
        "id": "7nZpjmLlYeo6",
        "colab_type": "text"
      },
      "source": [
        "Then we write the callback class. (Which is a challenge for me because I don't know how to write classes...)"
      ]
    },
    {
      "cell_type": "code",
      "metadata": {
        "id": "gNw89rZ5YclM",
        "colab_type": "code",
        "colab": {}
      },
      "source": [
        "class MyCallback(tf.keras.callbacks.Callback):\n",
        "  def on_epoch_end(self, epoch, logs = {}):\n",
        "    if(logs.get('accuracy') > 0.99):\n",
        "      print('\\nReached 99% accuracy so cancelling training!')\n",
        "      self.model.stop_training = True"
      ],
      "execution_count": 29,
      "outputs": []
    },
    {
      "cell_type": "markdown",
      "metadata": {
        "id": "k5HvqmgC7euM",
        "colab_type": "text"
      },
      "source": [
        "Then instantiate the class:"
      ]
    },
    {
      "cell_type": "code",
      "metadata": {
        "id": "-lGafkmW7olA",
        "colab_type": "code",
        "colab": {}
      },
      "source": [
        "callbacks = MyCallback()"
      ],
      "execution_count": 30,
      "outputs": []
    },
    {
      "cell_type": "markdown",
      "metadata": {
        "id": "kPy2S3Y47xzc",
        "colab_type": "text"
      },
      "source": [
        "Build the model:"
      ]
    },
    {
      "cell_type": "code",
      "metadata": {
        "id": "wtVnN60g708W",
        "colab_type": "code",
        "colab": {}
      },
      "source": [
        "model = tf.keras.models.Sequential([\n",
        "                             tf.keras.layers.Flatten(input_shape = (28,28)),\n",
        "                             tf.keras.layers.Dense(units = 128, activation= tf.nn.relu),\n",
        "                             tf.keras.layers.Dense(units = 10, activation= tf.nn.softmax)\n",
        "])\n",
        "model.compile(optimizer = 'adam', loss = 'sparse_categorical_crossentropy', metrics=['accuracy'])"
      ],
      "execution_count": 35,
      "outputs": []
    },
    {
      "cell_type": "markdown",
      "metadata": {
        "id": "F85Aco118ncX",
        "colab_type": "text"
      },
      "source": [
        "Train the model:"
      ]
    },
    {
      "cell_type": "code",
      "metadata": {
        "id": "1_pzBabJ8tvP",
        "colab_type": "code",
        "colab": {
          "base_uri": "https://localhost:8080/",
          "height": 306
        },
        "outputId": "6dc6272a-7eed-46b7-9d23-9876738d7f21"
      },
      "source": [
        "model.fit(train_images, train_labels, epochs = 10, callbacks=[callbacks])"
      ],
      "execution_count": 36,
      "outputs": [
        {
          "output_type": "stream",
          "text": [
            "Epoch 1/10\n",
            "1875/1875 [==============================] - 5s 3ms/step - loss: 0.2650 - accuracy: 0.9231\n",
            "Epoch 2/10\n",
            "1875/1875 [==============================] - 5s 2ms/step - loss: 0.1165 - accuracy: 0.9654\n",
            "Epoch 3/10\n",
            "1875/1875 [==============================] - 4s 2ms/step - loss: 0.0791 - accuracy: 0.9753\n",
            "Epoch 4/10\n",
            "1875/1875 [==============================] - 4s 2ms/step - loss: 0.0602 - accuracy: 0.9811\n",
            "Epoch 5/10\n",
            "1875/1875 [==============================] - 4s 2ms/step - loss: 0.0455 - accuracy: 0.9855\n",
            "Epoch 6/10\n",
            "1875/1875 [==============================] - 5s 2ms/step - loss: 0.0355 - accuracy: 0.9889\n",
            "Epoch 7/10\n",
            "1871/1875 [============================>.] - ETA: 0s - loss: 0.0283 - accuracy: 0.9913\n",
            "Reached 99% accuracy so cancelling training!\n",
            "1875/1875 [==============================] - 5s 3ms/step - loss: 0.0283 - accuracy: 0.9913\n"
          ],
          "name": "stdout"
        },
        {
          "output_type": "execute_result",
          "data": {
            "text/plain": [
              "<tensorflow.python.keras.callbacks.History at 0x7ff9e8c69128>"
            ]
          },
          "metadata": {
            "tags": []
          },
          "execution_count": 36
        }
      ]
    },
    {
      "cell_type": "markdown",
      "metadata": {
        "id": "oZ0k2WdHEhPB",
        "colab_type": "text"
      },
      "source": [
        "Horray! It is working!\n",
        "\n",
        "It is wired that specifying the metrics in model.compile is a must...or logs.get('accuracy') won't work"
      ]
    },
    {
      "cell_type": "code",
      "metadata": {
        "id": "rSyUdRpQC-Bo",
        "colab_type": "code",
        "colab": {}
      },
      "source": [
        ""
      ],
      "execution_count": null,
      "outputs": []
    }
  ]
}