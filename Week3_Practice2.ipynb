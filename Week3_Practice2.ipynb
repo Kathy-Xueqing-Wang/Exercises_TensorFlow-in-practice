{
  "nbformat": 4,
  "nbformat_minor": 0,
  "metadata": {
    "colab": {
      "name": "Week3_Practice2.ipynb",
      "provenance": [],
      "authorship_tag": "ABX9TyPRwEUry9hLyg9b7eFshjas",
      "include_colab_link": true
    },
    "kernelspec": {
      "name": "python3",
      "display_name": "Python 3"
    },
    "accelerator": "GPU"
  },
  "cells": [
    {
      "cell_type": "markdown",
      "metadata": {
        "id": "view-in-github",
        "colab_type": "text"
      },
      "source": [
        "<a href=\"https://colab.research.google.com/github/Kathy-Xueqing-Wang/Exercises_TensorFlow-in-practice/blob/master/Week3_Practice2.ipynb\" target=\"_parent\"><img src=\"https://colab.research.google.com/assets/colab-badge.svg\" alt=\"Open In Colab\"/></a>"
      ]
    },
    {
      "cell_type": "markdown",
      "metadata": {
        "id": "kGTcZDkafwLg",
        "colab_type": "text"
      },
      "source": [
        "In this notebook we add convolution layers to the Handwritting Recognition model."
      ]
    },
    {
      "cell_type": "code",
      "metadata": {
        "id": "JOlefXxBfr9b",
        "colab_type": "code",
        "colab": {}
      },
      "source": [
        "import tensorflow as tf"
      ],
      "execution_count": 2,
      "outputs": []
    },
    {
      "cell_type": "code",
      "metadata": {
        "id": "fTHyjuiof7Vg",
        "colab_type": "code",
        "colab": {
          "base_uri": "https://localhost:8080/",
          "height": 51
        },
        "outputId": "50ad26e6-13ba-4f49-ba21-895a420e6f80"
      },
      "source": [
        "# Prepare data\n",
        "mnist = tf.keras.datasets.mnist\n",
        "(train_x, train_y), (test_x, test_y) = mnist.load_data()\n",
        "train_x, test_x = train_x/255, test_x/255"
      ],
      "execution_count": 3,
      "outputs": [
        {
          "output_type": "stream",
          "text": [
            "Downloading data from https://storage.googleapis.com/tensorflow/tf-keras-datasets/mnist.npz\n",
            "11493376/11490434 [==============================] - 0s 0us/step\n"
          ],
          "name": "stdout"
        }
      ]
    },
    {
      "cell_type": "markdown",
      "metadata": {
        "id": "X3qTiZnwguDv",
        "colab_type": "text"
      },
      "source": [
        "It is always hard for me to imaging the shape of numpy array.. for conv layers we need to reshape the input"
      ]
    },
    {
      "cell_type": "code",
      "metadata": {
        "id": "Gir_uWovgkuV",
        "colab_type": "code",
        "colab": {
          "base_uri": "https://localhost:8080/",
          "height": 34
        },
        "outputId": "7b812163-5fee-4a9c-e84a-5f37b04d5990"
      },
      "source": [
        "train_x.shape"
      ],
      "execution_count": 4,
      "outputs": [
        {
          "output_type": "execute_result",
          "data": {
            "text/plain": [
              "(60000, 28, 28)"
            ]
          },
          "metadata": {
            "tags": []
          },
          "execution_count": 4
        }
      ]
    },
    {
      "cell_type": "code",
      "metadata": {
        "id": "Ggpi9WsAgQja",
        "colab_type": "code",
        "colab": {}
      },
      "source": [
        "# A little new steps in preparing data\n",
        "train_x = train_x.reshape((60000, 28, 28, 1))\n",
        "test_x = test_x.reshape((10000, 28, 28, 1))"
      ],
      "execution_count": 5,
      "outputs": []
    },
    {
      "cell_type": "code",
      "metadata": {
        "id": "WBc_l4uqg54J",
        "colab_type": "code",
        "colab": {}
      },
      "source": [
        "# Callback class\n",
        "class MyCallback(tf.keras.callbacks.Callback):\n",
        "  def on_epoch_end(self, epoch, logs = {}):\n",
        "    if(logs.get('accuracy')>0.998):\n",
        "      print('\\nReached 99.8% accuracy so cancelling training!')\n",
        "      self.model.stop_training = True"
      ],
      "execution_count": 6,
      "outputs": []
    },
    {
      "cell_type": "code",
      "metadata": {
        "id": "WRDlXe8Fhe_O",
        "colab_type": "code",
        "colab": {}
      },
      "source": [
        "# instantiat callback\n",
        "callbacks = MyCallback()"
      ],
      "execution_count": 7,
      "outputs": []
    },
    {
      "cell_type": "code",
      "metadata": {
        "id": "jNwKrY60hnf1",
        "colab_type": "code",
        "colab": {}
      },
      "source": [
        "# build model\n",
        "model = tf.keras.models.Sequential([\n",
        "                                    tf.keras.layers.Conv2D(64, (3,3), activation='relu', input_shape = (28, 28, 1)),\n",
        "                                    tf.keras.layers.MaxPooling2D((2, 2)),\n",
        "                                    tf.keras.layers.Flatten(),\n",
        "                                    tf.keras.layers.Dense(128, activation = 'relu'),\n",
        "                                    tf.keras.layers.Dense(10, activation= 'softmax')\n",
        "])\n",
        "model.compile(optimizer = 'adam', loss = 'sparse_categorical_crossentropy', metrics = 'accuracy')"
      ],
      "execution_count": 8,
      "outputs": []
    },
    {
      "cell_type": "code",
      "metadata": {
        "id": "gUJNWV7OikIp",
        "colab_type": "code",
        "colab": {
          "base_uri": "https://localhost:8080/",
          "height": 340
        },
        "outputId": "2e803fd5-145e-47f2-edb3-ddeeb05f5b56"
      },
      "source": [
        "# train model\n",
        "model.fit(train_x, train_y, epochs = 20, callbacks=[callbacks])"
      ],
      "execution_count": 9,
      "outputs": [
        {
          "output_type": "stream",
          "text": [
            "Epoch 1/20\n",
            "1875/1875 [==============================] - 10s 5ms/step - loss: 0.1315 - accuracy: 0.9603\n",
            "Epoch 2/20\n",
            "1875/1875 [==============================] - 10s 5ms/step - loss: 0.0460 - accuracy: 0.9860\n",
            "Epoch 3/20\n",
            "1875/1875 [==============================] - 10s 5ms/step - loss: 0.0289 - accuracy: 0.9909\n",
            "Epoch 4/20\n",
            "1875/1875 [==============================] - 10s 5ms/step - loss: 0.0183 - accuracy: 0.9939\n",
            "Epoch 5/20\n",
            "1875/1875 [==============================] - 10s 5ms/step - loss: 0.0124 - accuracy: 0.9959\n",
            "Epoch 6/20\n",
            "1875/1875 [==============================] - 10s 5ms/step - loss: 0.0095 - accuracy: 0.9968\n",
            "Epoch 7/20\n",
            "1875/1875 [==============================] - 10s 5ms/step - loss: 0.0066 - accuracy: 0.9978\n",
            "Epoch 8/20\n",
            "1871/1875 [============================>.] - ETA: 0s - loss: 0.0060 - accuracy: 0.9981\n",
            "Reached 99.8% accuracy so cancelling training!\n",
            "1875/1875 [==============================] - 10s 5ms/step - loss: 0.0060 - accuracy: 0.9981\n"
          ],
          "name": "stdout"
        },
        {
          "output_type": "execute_result",
          "data": {
            "text/plain": [
              "<tensorflow.python.keras.callbacks.History at 0x7f9f305e3748>"
            ]
          },
          "metadata": {
            "tags": []
          },
          "execution_count": 9
        }
      ]
    },
    {
      "cell_type": "markdown",
      "metadata": {
        "id": "5AaI4ITnjQiO",
        "colab_type": "text"
      },
      "source": [
        "Hooray!! I did it in one shot! I feel I'm super cool"
      ]
    }
  ]
}