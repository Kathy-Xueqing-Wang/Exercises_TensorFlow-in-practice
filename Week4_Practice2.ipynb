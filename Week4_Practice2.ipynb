{
  "nbformat": 4,
  "nbformat_minor": 0,
  "metadata": {
    "colab": {
      "name": "Week4_Practice2.ipynb",
      "provenance": [],
      "authorship_tag": "ABX9TyOWZgKjKVk9kKOsjY3R/MUn",
      "include_colab_link": true
    },
    "kernelspec": {
      "name": "python3",
      "display_name": "Python 3"
    },
    "accelerator": "GPU"
  },
  "cells": [
    {
      "cell_type": "markdown",
      "metadata": {
        "id": "view-in-github",
        "colab_type": "text"
      },
      "source": [
        "<a href=\"https://colab.research.google.com/github/Kathy-Xueqing-Wang/Exercises_TensorFlow-in-practice/blob/master/Week4_Practice2.ipynb\" target=\"_parent\"><img src=\"https://colab.research.google.com/assets/colab-badge.svg\" alt=\"Open In Colab\"/></a>"
      ]
    },
    {
      "cell_type": "markdown",
      "metadata": {
        "id": "4ZYSN_LC0y54",
        "colab_type": "text"
      },
      "source": [
        "This time we build a CNN model for Happy and Sad Faces binary classification. The fit_generator is used for this practice."
      ]
    },
    {
      "cell_type": "code",
      "metadata": {
        "id": "KcCUjYyt1HX5",
        "colab_type": "code",
        "colab": {}
      },
      "source": [
        "import tensorflow as tf\n",
        "# import these libraries to help load the dataset\n",
        "import os\n",
        "import zipfile"
      ],
      "execution_count": 1,
      "outputs": []
    },
    {
      "cell_type": "code",
      "metadata": {
        "id": "kT7Twvy-2M4s",
        "colab_type": "code",
        "colab": {
          "base_uri": "https://localhost:8080/",
          "height": 35
        },
        "outputId": "b7758a0f-ef0c-4336-bf0c-2aad54cd043e"
      },
      "source": [
        "os.getcwd()"
      ],
      "execution_count": 2,
      "outputs": [
        {
          "output_type": "execute_result",
          "data": {
            "application/vnd.google.colaboratory.intrinsic+json": {
              "type": "string"
            },
            "text/plain": [
              "'/content'"
            ]
          },
          "metadata": {
            "tags": []
          },
          "execution_count": 2
        }
      ]
    },
    {
      "cell_type": "markdown",
      "metadata": {
        "id": "3oxN2dVy4p8D",
        "colab_type": "text"
      },
      "source": [
        "Unzip the data: note that the data will be deleted when the kernal stops... so maybe you cannot access the data.. I'll try to put the data somewhere on github."
      ]
    },
    {
      "cell_type": "code",
      "metadata": {
        "id": "u-piXTUe1c_g",
        "colab_type": "code",
        "colab": {}
      },
      "source": [
        "path = f\"{os.getcwd()}/happy-or-sad.zip\"\n",
        "zip_ref = zipfile.ZipFile(path, 'r')\n",
        "zip_ref.extractall(f\"{os.getcwd()}/h_or_s\")\n",
        "zip_ref.close()"
      ],
      "execution_count": 3,
      "outputs": []
    },
    {
      "cell_type": "markdown",
      "metadata": {
        "id": "Q-aQ2Yd_4uOm",
        "colab_type": "text"
      },
      "source": [
        "Then we build the generator:"
      ]
    },
    {
      "cell_type": "code",
      "metadata": {
        "id": "0gEL6kYg4iKC",
        "colab_type": "code",
        "colab": {
          "base_uri": "https://localhost:8080/",
          "height": 34
        },
        "outputId": "d3caee85-befe-44f9-8c50-e92870a4d990"
      },
      "source": [
        "from tensorflow.keras.preprocessing.image import ImageDataGenerator\n",
        "\n",
        "train_datagen = ImageDataGenerator(rescale = 1/255)\n",
        "\n",
        "train_generator = train_datagen.flow_from_directory(\n",
        "    '/content/h_or_s/',\n",
        "    target_size = (300, 300),\n",
        "    batch_size = 10,\n",
        "    class_mode = 'binary'\n",
        ")"
      ],
      "execution_count": 4,
      "outputs": [
        {
          "output_type": "stream",
          "text": [
            "Found 80 images belonging to 2 classes.\n"
          ],
          "name": "stdout"
        }
      ]
    },
    {
      "cell_type": "markdown",
      "metadata": {
        "id": "fN_VqgZ86EFb",
        "colab_type": "text"
      },
      "source": [
        "Now it is the callback class."
      ]
    },
    {
      "cell_type": "code",
      "metadata": {
        "id": "jIHs6jjk2Ug9",
        "colab_type": "code",
        "colab": {}
      },
      "source": [
        "class MyCallback(tf.keras.callbacks.Callback):\n",
        "  def on_epoch_end(self, epoch, logs = {}):\n",
        "    if(logs.get('acc')>0.999):\n",
        "      print('\\nReached 99.9% accuracy so cancelling training!')\n",
        "      self.model.stop_training = True"
      ],
      "execution_count": 5,
      "outputs": []
    },
    {
      "cell_type": "markdown",
      "metadata": {
        "id": "uVghUKEH6n_f",
        "colab_type": "text"
      },
      "source": [
        "All set! It is time to build the model."
      ]
    },
    {
      "cell_type": "code",
      "metadata": {
        "id": "BKJ1_-Kp6nB4",
        "colab_type": "code",
        "colab": {}
      },
      "source": [
        "callbacks = MyCallback()\n",
        "\n",
        "model = tf.keras.models.Sequential([\n",
        "                                    tf.keras.layers.Conv2D(16, (3, 3), input_shape = (300, 300, 3), activation= 'relu'),\n",
        "                                    tf.keras.layers.MaxPooling2D((2, 2)),\n",
        "                                    tf.keras.layers.Conv2D(32, (3, 3), activation= 'relu'),\n",
        "                                    tf.keras.layers.MaxPooling2D((2, 2)),\n",
        "                                    tf.keras.layers.Conv2D(64, (3, 3), activation= 'relu'),\n",
        "                                    tf.keras.layers.MaxPooling2D((2, 2)),\n",
        "                                    tf.keras.layers.Flatten(),\n",
        "                                    tf.keras.layers.Dense(128, activation='relu'),\n",
        "                                    tf.keras.layers.Dense(1, activation='sigmoid')\n",
        "])\n",
        "\n",
        "from tensorflow.keras.optimizers import RMSprop\n",
        "\n",
        "model.compile(optimizer = RMSprop(lr = 0.001), loss = 'binary_crossentropy', metrics = 'acc')"
      ],
      "execution_count": 6,
      "outputs": []
    },
    {
      "cell_type": "code",
      "metadata": {
        "id": "OT7AgXVF8BjS",
        "colab_type": "code",
        "colab": {
          "base_uri": "https://localhost:8080/",
          "height": 411
        },
        "outputId": "91e007e3-6f0d-42b6-cc22-b91ea0297674"
      },
      "source": [
        "model.fit_generator(\n",
        "    train_generator, \n",
        "    steps_per_epoch = 8,\n",
        "    epochs = 20,\n",
        "    verbose = 1,\n",
        "    callbacks = [callbacks]\n",
        ")"
      ],
      "execution_count": 7,
      "outputs": [
        {
          "output_type": "stream",
          "text": [
            "WARNING:tensorflow:From <ipython-input-7-882af62f2e67>:6: Model.fit_generator (from tensorflow.python.keras.engine.training) is deprecated and will be removed in a future version.\n",
            "Instructions for updating:\n",
            "Please use Model.fit, which supports generators.\n",
            "Epoch 1/20\n",
            "8/8 [==============================] - 0s 29ms/step - loss: 2.0591 - acc: 0.5375\n",
            "Epoch 2/20\n",
            "8/8 [==============================] - 0s 32ms/step - loss: 0.5649 - acc: 0.7500\n",
            "Epoch 3/20\n",
            "8/8 [==============================] - 0s 28ms/step - loss: 0.2117 - acc: 0.9375\n",
            "Epoch 4/20\n",
            "8/8 [==============================] - 0s 28ms/step - loss: 0.5474 - acc: 0.7875\n",
            "Epoch 5/20\n",
            "8/8 [==============================] - 0s 28ms/step - loss: 0.0915 - acc: 0.9875\n",
            "Epoch 6/20\n",
            "8/8 [==============================] - 0s 29ms/step - loss: 0.0449 - acc: 0.9875\n",
            "Epoch 7/20\n",
            "8/8 [==============================] - 0s 29ms/step - loss: 0.0409 - acc: 0.9875\n",
            "Epoch 8/20\n",
            "7/8 [=========================>....] - ETA: 0s - loss: 0.0147 - acc: 1.0000\n",
            "Reached 99.9% accuracy so cancelling training!\n",
            "8/8 [==============================] - 0s 30ms/step - loss: 0.0130 - acc: 1.0000\n"
          ],
          "name": "stdout"
        },
        {
          "output_type": "execute_result",
          "data": {
            "text/plain": [
              "<tensorflow.python.keras.callbacks.History at 0x7fa8800eabe0>"
            ]
          },
          "metadata": {
            "tags": []
          },
          "execution_count": 7
        }
      ]
    },
    {
      "cell_type": "markdown",
      "metadata": {
        "id": "VD3D9YX08bJa",
        "colab_type": "text"
      },
      "source": [
        "Did that! So easy."
      ]
    },
    {
      "cell_type": "code",
      "metadata": {
        "id": "nrUaCs738eeu",
        "colab_type": "code",
        "colab": {}
      },
      "source": [
        ""
      ],
      "execution_count": null,
      "outputs": []
    }
  ]
}