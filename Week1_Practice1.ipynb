{
  "nbformat": 4,
  "nbformat_minor": 0,
  "metadata": {
    "colab": {
      "name": "Week1_Practice1.ipynb",
      "provenance": [],
      "authorship_tag": "ABX9TyNKKvBDJFiQqeL/Cv8S8QD8",
      "include_colab_link": true
    },
    "kernelspec": {
      "name": "python3",
      "display_name": "Python 3"
    }
  },
  "cells": [
    {
      "cell_type": "markdown",
      "metadata": {
        "id": "view-in-github",
        "colab_type": "text"
      },
      "source": [
        "<a href=\"https://colab.research.google.com/github/Kathy-Xueqing-Wang/Exercises_TensorFlow-in-practice/blob/master/Week1_Practice1.ipynb\" target=\"_parent\"><img src=\"https://colab.research.google.com/assets/colab-badge.svg\" alt=\"Open In Colab\"/></a>"
      ]
    },
    {
      "cell_type": "markdown",
      "metadata": {
        "id": "uxWFfvj1Fjm_",
        "colab_type": "text"
      },
      "source": [
        "This notebook is to create a 'hello world' tensorflow model using a neuron network with **only one layer and one neuron**."
      ]
    },
    {
      "cell_type": "markdown",
      "metadata": {
        "id": "S54TTIK3KRQw",
        "colab_type": "text"
      },
      "source": [
        "First import what we need."
      ]
    },
    {
      "cell_type": "code",
      "metadata": {
        "id": "FCObW7apGJsa",
        "colab_type": "code",
        "colab": {}
      },
      "source": [
        "import tensorflow as tf\n",
        "import numpy as np\n",
        "from tensorflow import keras"
      ],
      "execution_count": 3,
      "outputs": []
    },
    {
      "cell_type": "markdown",
      "metadata": {
        "id": "1NTIh4QWKKVR",
        "colab_type": "text"
      },
      "source": [
        "Then we create the training data of the model."
      ]
    },
    {
      "cell_type": "code",
      "metadata": {
        "id": "MMj2RXsYGk_5",
        "colab_type": "code",
        "colab": {}
      },
      "source": [
        "x = np.array([-1, 0, 1, 2, 3, 4], dtype = float)\n",
        "y = np.array([-3, -1, 1, 3, 5, 7], dtype = float)"
      ],
      "execution_count": 4,
      "outputs": []
    },
    {
      "cell_type": "markdown",
      "metadata": {
        "colab_type": "text",
        "id": "Gb4PyfGFGAyC"
      },
      "source": [
        "Now we start to build the model."
      ]
    },
    {
      "cell_type": "code",
      "metadata": {
        "id": "f0dOaWgaHLTh",
        "colab_type": "code",
        "colab": {}
      },
      "source": [
        "model = keras.Sequential([keras.layers.Dense(units = 1, input_shape = [1])])\n",
        "model.compile(optimizer = 'sgd', loss = 'mean_squared_error')\n",
        "model.fit(x, y, epochs = 500)"
      ],
      "execution_count": null,
      "outputs": []
    },
    {
      "cell_type": "markdown",
      "metadata": {
        "colab_type": "text",
        "id": "JhTBRnTLF_qW"
      },
      "source": [
        "Now we use the model to predict new things."
      ]
    },
    {
      "cell_type": "code",
      "metadata": {
        "id": "luhapzmkH9Kt",
        "colab_type": "code",
        "colab": {
          "base_uri": "https://localhost:8080/",
          "height": 34
        },
        "outputId": "5380e4aa-cff2-4a8d-9244-14fab1f18ddc"
      },
      "source": [
        "model.predict([10])"
      ],
      "execution_count": 6,
      "outputs": [
        {
          "output_type": "execute_result",
          "data": {
            "text/plain": [
              "array([[18.98231]], dtype=float32)"
            ]
          },
          "metadata": {
            "tags": []
          },
          "execution_count": 6
        }
      ]
    },
    {
      "cell_type": "markdown",
      "metadata": {
        "id": "LuXYJzN3KCpM",
        "colab_type": "text"
      },
      "source": [
        "Hooray!"
      ]
    }
  ]
}